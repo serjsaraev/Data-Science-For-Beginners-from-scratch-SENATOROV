{
 "cells": [
  {
   "cell_type": "code",
   "execution_count": 3,
   "metadata": {},
   "outputs": [
    {
     "data": {
      "text/plain": [
       "'Init commit.'"
      ]
     },
     "execution_count": 3,
     "metadata": {},
     "output_type": "execute_result"
    }
   ],
   "source": [
    "\"\"\"Логгирование уроков.\"\"\""
   ]
  },
  {
   "cell_type": "markdown",
   "metadata": {},
   "source": [
    "11.02.25\n",
    "\n",
    "1. Выполнена настройка рабочего окружения\n",
    "2. Изучена работа с Git\n",
    "3. Сделан первый коммит"
   ]
  },
  {
   "cell_type": "markdown",
   "metadata": {},
   "source": [
    "12.02.25\n",
    "1. Знакомство, поределение целей курса\n",
    "2. Погружение в линейную алгебру:\n",
    "2.1 Рассмотрена модель линейной регрессии с одной независимой переменной\n",
    "2.2 Рассмотрена что такое нормальное распредление\n",
    "2.3 Рассмотрены два основных параметра: угловой коэффициент и свободный член\n",
    "2.4 Изучено что аткое случайный гауссовский шум\n",
    "3.  Расмотрен порядок построения модели"
   ]
  },
  {
   "cell_type": "markdown",
   "metadata": {},
   "source": [
    "02.04.25\n",
    "1. Рассмотрены понятия эмпирический коэффициент детерминации, рассмотрена формула рассчета  эмпирического коэффициент детерминации\n",
    "2. Рассмотрена разница между межгрупповой дисперсией и общей дисперсией\n",
    "3. Посчитан на примере эмпирический коэффициент детерминации "
   ]
  }
 ],
 "metadata": {
  "kernelspec": {
   "display_name": "base",
   "language": "python",
   "name": "python3"
  },
  "language_info": {
   "codemirror_mode": {
    "name": "ipython",
    "version": 3
   },
   "file_extension": ".py",
   "mimetype": "text/x-python",
   "name": "python",
   "nbconvert_exporter": "python",
   "pygments_lexer": "ipython3",
   "version": "3.11.7"
  }
 },
 "nbformat": 4,
 "nbformat_minor": 2
}
